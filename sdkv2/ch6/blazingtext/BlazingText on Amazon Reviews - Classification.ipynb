{
 "cells": [
  {
   "cell_type": "markdown",
   "metadata": {},
   "source": [
    "## Inspect and processing data manually"
   ]
  },
  {
   "cell_type": "code",
   "execution_count": null,
   "metadata": {},
   "outputs": [],
   "source": [
    "%%sh\n",
    "aws s3 cp s3://amazon-reviews-pds/tsv/amazon_reviews_us_Camera_v1_00.tsv.gz /tmp"
   ]
  },
  {
   "cell_type": "code",
   "execution_count": 1,
   "metadata": {},
   "outputs": [],
   "source": [
    "import pandas as pd\n",
    "import numpy as np"
   ]
  },
  {
   "cell_type": "code",
   "execution_count": 2,
   "metadata": {},
   "outputs": [
    {
     "name": "stderr",
     "output_type": "stream",
     "text": [
      "b'Skipping line 85458: expected 15 fields, saw 22\\nSkipping line 91161: expected 15 fields, saw 22\\n'\n",
      "b'Skipping line 166123: expected 15 fields, saw 22\\n'\n",
      "b'Skipping line 225458: expected 15 fields, saw 22\\nSkipping line 229936: expected 15 fields, saw 22\\nSkipping line 259297: expected 15 fields, saw 22\\n'\n",
      "b'Skipping line 284728: expected 15 fields, saw 22\\nSkipping line 286334: expected 15 fields, saw 22\\nSkipping line 293400: expected 15 fields, saw 22\\nSkipping line 294415: expected 15 fields, saw 22\\nSkipping line 308150: expected 15 fields, saw 22\\nSkipping line 315022: expected 15 fields, saw 22\\nSkipping line 315730: expected 15 fields, saw 22\\nSkipping line 316071: expected 15 fields, saw 22\\nSkipping line 326729: expected 15 fields, saw 22\\n'\n",
      "b'Skipping line 329101: expected 15 fields, saw 22\\nSkipping line 333077: expected 15 fields, saw 22\\nSkipping line 377031: expected 15 fields, saw 22\\nSkipping line 389496: expected 15 fields, saw 22\\nSkipping line 390486: expected 15 fields, saw 22\\n'\n",
      "b'Skipping line 418308: expected 15 fields, saw 22\\nSkipping line 454332: expected 15 fields, saw 22\\nSkipping line 458342: expected 15 fields, saw 22\\n'\n",
      "b'Skipping line 460704: expected 15 fields, saw 22\\nSkipping line 466250: expected 15 fields, saw 22\\nSkipping line 486023: expected 15 fields, saw 22\\nSkipping line 492819: expected 15 fields, saw 22\\nSkipping line 517468: expected 15 fields, saw 22\\nSkipping line 520963: expected 15 fields, saw 22\\n'\n",
      "b'Skipping line 528810: expected 15 fields, saw 22\\nSkipping line 554419: expected 15 fields, saw 22\\nSkipping line 565266: expected 15 fields, saw 22\\n'\n",
      "b'Skipping line 613248: expected 15 fields, saw 22\\nSkipping line 613988: expected 15 fields, saw 22\\nSkipping line 620134: expected 15 fields, saw 22\\nSkipping line 642170: expected 15 fields, saw 22\\n'\n",
      "b'Skipping line 670152: expected 15 fields, saw 22\\nSkipping line 681751: expected 15 fields, saw 22\\n'\n",
      "b'Skipping line 811638: expected 15 fields, saw 22\\n'\n",
      "b'Skipping line 913254: expected 15 fields, saw 22\\n'\n",
      "b'Skipping line 1168305: expected 15 fields, saw 22\\n'\n"
     ]
    }
   ],
   "source": [
    "data = pd.read_csv('/tmp/amazon_reviews_us_Camera_v1_00.tsv.gz', sep='\\t', \n",
    "                   compression='gzip', error_bad_lines=False, dtype='str')\n",
    "data.dropna(inplace=True)"
   ]
  },
  {
   "cell_type": "code",
   "execution_count": 3,
   "metadata": {},
   "outputs": [
    {
     "name": "stdout",
     "output_type": "stream",
     "text": [
      "(1800755, 15)\n",
      "Index(['marketplace', 'customer_id', 'review_id', 'product_id',\n",
      "       'product_parent', 'product_title', 'product_category', 'star_rating',\n",
      "       'helpful_votes', 'total_votes', 'vine', 'verified_purchase',\n",
      "       'review_headline', 'review_body', 'review_date'],\n",
      "      dtype='object')\n"
     ]
    }
   ],
   "source": [
    "print(data.shape)\n",
    "print(data.columns)"
   ]
  },
  {
   "cell_type": "code",
   "execution_count": 4,
   "metadata": {},
   "outputs": [
    {
     "data": {
      "text/html": [
       "<div>\n",
       "<style scoped>\n",
       "    .dataframe tbody tr th:only-of-type {\n",
       "        vertical-align: middle;\n",
       "    }\n",
       "\n",
       "    .dataframe tbody tr th {\n",
       "        vertical-align: top;\n",
       "    }\n",
       "\n",
       "    .dataframe thead th {\n",
       "        text-align: right;\n",
       "    }\n",
       "</style>\n",
       "<table border=\"1\" class=\"dataframe\">\n",
       "  <thead>\n",
       "    <tr style=\"text-align: right;\">\n",
       "      <th></th>\n",
       "      <th>marketplace</th>\n",
       "      <th>customer_id</th>\n",
       "      <th>review_id</th>\n",
       "      <th>product_id</th>\n",
       "      <th>product_parent</th>\n",
       "      <th>product_title</th>\n",
       "      <th>product_category</th>\n",
       "      <th>star_rating</th>\n",
       "      <th>helpful_votes</th>\n",
       "      <th>total_votes</th>\n",
       "      <th>vine</th>\n",
       "      <th>verified_purchase</th>\n",
       "      <th>review_headline</th>\n",
       "      <th>review_body</th>\n",
       "      <th>review_date</th>\n",
       "    </tr>\n",
       "  </thead>\n",
       "  <tbody>\n",
       "    <tr>\n",
       "      <th>0</th>\n",
       "      <td>US</td>\n",
       "      <td>2975964</td>\n",
       "      <td>R1NBG94582SJE2</td>\n",
       "      <td>B00I01JQJM</td>\n",
       "      <td>860486164</td>\n",
       "      <td>GoPro Rechargeable Battery 2.0 (HERO3/HERO3+ o...</td>\n",
       "      <td>Camera</td>\n",
       "      <td>5</td>\n",
       "      <td>0</td>\n",
       "      <td>0</td>\n",
       "      <td>N</td>\n",
       "      <td>Y</td>\n",
       "      <td>Five Stars</td>\n",
       "      <td>ok</td>\n",
       "      <td>2015-08-31</td>\n",
       "    </tr>\n",
       "    <tr>\n",
       "      <th>1</th>\n",
       "      <td>US</td>\n",
       "      <td>23526356</td>\n",
       "      <td>R273DCA6Y0H9V7</td>\n",
       "      <td>B00TCO0ZAA</td>\n",
       "      <td>292641483</td>\n",
       "      <td>Professional 58mm Center Pinch Lens Cap for CA...</td>\n",
       "      <td>Camera</td>\n",
       "      <td>5</td>\n",
       "      <td>0</td>\n",
       "      <td>0</td>\n",
       "      <td>N</td>\n",
       "      <td>Y</td>\n",
       "      <td>Love it!!!</td>\n",
       "      <td>Perfect, even sturdier than the original!</td>\n",
       "      <td>2015-08-31</td>\n",
       "    </tr>\n",
       "    <tr>\n",
       "      <th>2</th>\n",
       "      <td>US</td>\n",
       "      <td>52764145</td>\n",
       "      <td>RQVOXO7WUOFK6</td>\n",
       "      <td>B00B7733E0</td>\n",
       "      <td>75825744</td>\n",
       "      <td>Spy Tec Z12 Motion Activated Intelligent Secur...</td>\n",
       "      <td>Camera</td>\n",
       "      <td>2</td>\n",
       "      <td>1</td>\n",
       "      <td>1</td>\n",
       "      <td>N</td>\n",
       "      <td>Y</td>\n",
       "      <td>Another Motion Detect Fail</td>\n",
       "      <td>If the words, &amp;#34;Cheap Chinese Junk&amp;#34; com...</td>\n",
       "      <td>2015-08-31</td>\n",
       "    </tr>\n",
       "    <tr>\n",
       "      <th>3</th>\n",
       "      <td>US</td>\n",
       "      <td>47348933</td>\n",
       "      <td>R1KWKSF21PO6HO</td>\n",
       "      <td>B006ZN4U34</td>\n",
       "      <td>789352955</td>\n",
       "      <td>Celestron UpClose G2 10x25 Monocular, Black (7...</td>\n",
       "      <td>Camera</td>\n",
       "      <td>5</td>\n",
       "      <td>0</td>\n",
       "      <td>0</td>\n",
       "      <td>N</td>\n",
       "      <td>Y</td>\n",
       "      <td>Exactly what I wanted and expected.</td>\n",
       "      <td>Exactly what I wanted and expected. Perfect fo...</td>\n",
       "      <td>2015-08-31</td>\n",
       "    </tr>\n",
       "    <tr>\n",
       "      <th>4</th>\n",
       "      <td>US</td>\n",
       "      <td>33680700</td>\n",
       "      <td>R38H3UO1J190GI</td>\n",
       "      <td>B00HUEBGMU</td>\n",
       "      <td>19067902</td>\n",
       "      <td>Vidpro XM-L Wired Lavalier microphone - 20' Au...</td>\n",
       "      <td>Camera</td>\n",
       "      <td>5</td>\n",
       "      <td>1</td>\n",
       "      <td>1</td>\n",
       "      <td>N</td>\n",
       "      <td>Y</td>\n",
       "      <td>Good mic at a Good Price...Not Canon Though.</td>\n",
       "      <td>I will look past the fact that they tricked me...</td>\n",
       "      <td>2015-08-31</td>\n",
       "    </tr>\n",
       "  </tbody>\n",
       "</table>\n",
       "</div>"
      ],
      "text/plain": [
       "  marketplace customer_id       review_id  product_id product_parent  \\\n",
       "0          US     2975964  R1NBG94582SJE2  B00I01JQJM      860486164   \n",
       "1          US    23526356  R273DCA6Y0H9V7  B00TCO0ZAA      292641483   \n",
       "2          US    52764145   RQVOXO7WUOFK6  B00B7733E0       75825744   \n",
       "3          US    47348933  R1KWKSF21PO6HO  B006ZN4U34      789352955   \n",
       "4          US    33680700  R38H3UO1J190GI  B00HUEBGMU       19067902   \n",
       "\n",
       "                                       product_title product_category  \\\n",
       "0  GoPro Rechargeable Battery 2.0 (HERO3/HERO3+ o...           Camera   \n",
       "1  Professional 58mm Center Pinch Lens Cap for CA...           Camera   \n",
       "2  Spy Tec Z12 Motion Activated Intelligent Secur...           Camera   \n",
       "3  Celestron UpClose G2 10x25 Monocular, Black (7...           Camera   \n",
       "4  Vidpro XM-L Wired Lavalier microphone - 20' Au...           Camera   \n",
       "\n",
       "  star_rating helpful_votes total_votes vine verified_purchase  \\\n",
       "0           5             0           0    N                 Y   \n",
       "1           5             0           0    N                 Y   \n",
       "2           2             1           1    N                 Y   \n",
       "3           5             0           0    N                 Y   \n",
       "4           5             1           1    N                 Y   \n",
       "\n",
       "                                review_headline  \\\n",
       "0                                    Five Stars   \n",
       "1                                    Love it!!!   \n",
       "2                    Another Motion Detect Fail   \n",
       "3           Exactly what I wanted and expected.   \n",
       "4  Good mic at a Good Price...Not Canon Though.   \n",
       "\n",
       "                                         review_body review_date  \n",
       "0                                                 ok  2015-08-31  \n",
       "1          Perfect, even sturdier than the original!  2015-08-31  \n",
       "2  If the words, &#34;Cheap Chinese Junk&#34; com...  2015-08-31  \n",
       "3  Exactly what I wanted and expected. Perfect fo...  2015-08-31  \n",
       "4  I will look past the fact that they tricked me...  2015-08-31  "
      ]
     },
     "execution_count": 4,
     "metadata": {},
     "output_type": "execute_result"
    }
   ],
   "source": [
    "data.head()"
   ]
  },
  {
   "cell_type": "code",
   "execution_count": 5,
   "metadata": {},
   "outputs": [],
   "source": [
    "data = data[:100000]"
   ]
  },
  {
   "cell_type": "code",
   "execution_count": 6,
   "metadata": {},
   "outputs": [],
   "source": [
    "data = data[['star_rating', 'review_body']]"
   ]
  },
  {
   "cell_type": "code",
   "execution_count": 7,
   "metadata": {},
   "outputs": [
    {
     "data": {
      "text/plain": [
       "array(['5', '2', '3', '1', '4'], dtype=object)"
      ]
     },
     "execution_count": 7,
     "metadata": {},
     "output_type": "execute_result"
    }
   ],
   "source": [
    "data.star_rating.unique()"
   ]
  },
  {
   "cell_type": "code",
   "execution_count": 8,
   "metadata": {},
   "outputs": [],
   "source": [
    "data['label'] = data.star_rating.map({\n",
    "    '1': '__label__negative__',\n",
    "    '2': '__label__negative__',\n",
    "    '3': '__label__neutral__',\n",
    "    '4': '__label__positive__',\n",
    "    '5': '__label__positive__'})"
   ]
  },
  {
   "cell_type": "code",
   "execution_count": 9,
   "metadata": {},
   "outputs": [],
   "source": [
    "data = data.drop(['star_rating'], axis=1)"
   ]
  },
  {
   "cell_type": "code",
   "execution_count": 10,
   "metadata": {},
   "outputs": [],
   "source": [
    "data = data[['label', 'review_body']]"
   ]
  },
  {
   "cell_type": "code",
   "execution_count": 11,
   "metadata": {},
   "outputs": [
    {
     "data": {
      "text/html": [
       "<div>\n",
       "<style scoped>\n",
       "    .dataframe tbody tr th:only-of-type {\n",
       "        vertical-align: middle;\n",
       "    }\n",
       "\n",
       "    .dataframe tbody tr th {\n",
       "        vertical-align: top;\n",
       "    }\n",
       "\n",
       "    .dataframe thead th {\n",
       "        text-align: right;\n",
       "    }\n",
       "</style>\n",
       "<table border=\"1\" class=\"dataframe\">\n",
       "  <thead>\n",
       "    <tr style=\"text-align: right;\">\n",
       "      <th></th>\n",
       "      <th>label</th>\n",
       "      <th>review_body</th>\n",
       "    </tr>\n",
       "  </thead>\n",
       "  <tbody>\n",
       "    <tr>\n",
       "      <th>0</th>\n",
       "      <td>__label__positive__</td>\n",
       "      <td>ok</td>\n",
       "    </tr>\n",
       "    <tr>\n",
       "      <th>1</th>\n",
       "      <td>__label__positive__</td>\n",
       "      <td>Perfect, even sturdier than the original!</td>\n",
       "    </tr>\n",
       "    <tr>\n",
       "      <th>2</th>\n",
       "      <td>__label__negative__</td>\n",
       "      <td>If the words, &amp;#34;Cheap Chinese Junk&amp;#34; com...</td>\n",
       "    </tr>\n",
       "    <tr>\n",
       "      <th>3</th>\n",
       "      <td>__label__positive__</td>\n",
       "      <td>Exactly what I wanted and expected. Perfect fo...</td>\n",
       "    </tr>\n",
       "    <tr>\n",
       "      <th>4</th>\n",
       "      <td>__label__positive__</td>\n",
       "      <td>I will look past the fact that they tricked me...</td>\n",
       "    </tr>\n",
       "  </tbody>\n",
       "</table>\n",
       "</div>"
      ],
      "text/plain": [
       "                 label                                        review_body\n",
       "0  __label__positive__                                                 ok\n",
       "1  __label__positive__          Perfect, even sturdier than the original!\n",
       "2  __label__negative__  If the words, &#34;Cheap Chinese Junk&#34; com...\n",
       "3  __label__positive__  Exactly what I wanted and expected. Perfect fo...\n",
       "4  __label__positive__  I will look past the fact that they tricked me..."
      ]
     },
     "execution_count": 11,
     "metadata": {},
     "output_type": "execute_result"
    }
   ],
   "source": [
    "data.head()"
   ]
  },
  {
   "cell_type": "code",
   "execution_count": 12,
   "metadata": {},
   "outputs": [
    {
     "name": "stderr",
     "output_type": "stream",
     "text": [
      "[nltk_data] Downloading package punkt to /home/ec2-user/nltk_data...\n",
      "[nltk_data]   Unzipping tokenizers/punkt.zip.\n"
     ]
    },
    {
     "data": {
      "text/plain": [
       "True"
      ]
     },
     "execution_count": 12,
     "metadata": {},
     "output_type": "execute_result"
    }
   ],
   "source": [
    "import nltk\n",
    "nltk.download('punkt')"
   ]
  },
  {
   "cell_type": "code",
   "execution_count": 13,
   "metadata": {},
   "outputs": [
    {
     "name": "stdout",
     "output_type": "stream",
     "text": [
      "CPU times: user 49.7 s, sys: 254 ms, total: 50 s\n",
      "Wall time: 50 s\n"
     ]
    }
   ],
   "source": [
    "%%time\n",
    "data['review_body'] = data['review_body'].apply(nltk.word_tokenize)"
   ]
  },
  {
   "cell_type": "code",
   "execution_count": 14,
   "metadata": {},
   "outputs": [
    {
     "name": "stdout",
     "output_type": "stream",
     "text": [
      "CPU times: user 2.89 s, sys: 35.9 ms, total: 2.92 s\n",
      "Wall time: 2.92 s\n"
     ]
    }
   ],
   "source": [
    "%%time\n",
    "data['review_body'] = data.apply(lambda row: \" \".join(row['review_body']).lower(), axis=1)"
   ]
  },
  {
   "cell_type": "code",
   "execution_count": 15,
   "metadata": {},
   "outputs": [
    {
     "data": {
      "text/html": [
       "<div>\n",
       "<style scoped>\n",
       "    .dataframe tbody tr th:only-of-type {\n",
       "        vertical-align: middle;\n",
       "    }\n",
       "\n",
       "    .dataframe tbody tr th {\n",
       "        vertical-align: top;\n",
       "    }\n",
       "\n",
       "    .dataframe thead th {\n",
       "        text-align: right;\n",
       "    }\n",
       "</style>\n",
       "<table border=\"1\" class=\"dataframe\">\n",
       "  <thead>\n",
       "    <tr style=\"text-align: right;\">\n",
       "      <th></th>\n",
       "      <th>label</th>\n",
       "      <th>review_body</th>\n",
       "    </tr>\n",
       "  </thead>\n",
       "  <tbody>\n",
       "    <tr>\n",
       "      <th>0</th>\n",
       "      <td>__label__positive__</td>\n",
       "      <td>ok</td>\n",
       "    </tr>\n",
       "    <tr>\n",
       "      <th>1</th>\n",
       "      <td>__label__positive__</td>\n",
       "      <td>perfect , even sturdier than the original !</td>\n",
       "    </tr>\n",
       "    <tr>\n",
       "      <th>2</th>\n",
       "      <td>__label__negative__</td>\n",
       "      <td>if the words , &amp; # 34 ; cheap chinese junk &amp; #...</td>\n",
       "    </tr>\n",
       "    <tr>\n",
       "      <th>3</th>\n",
       "      <td>__label__positive__</td>\n",
       "      <td>exactly what i wanted and expected . perfect f...</td>\n",
       "    </tr>\n",
       "    <tr>\n",
       "      <th>4</th>\n",
       "      <td>__label__positive__</td>\n",
       "      <td>i will look past the fact that they tricked me...</td>\n",
       "    </tr>\n",
       "  </tbody>\n",
       "</table>\n",
       "</div>"
      ],
      "text/plain": [
       "                 label                                        review_body\n",
       "0  __label__positive__                                                 ok\n",
       "1  __label__positive__        perfect , even sturdier than the original !\n",
       "2  __label__negative__  if the words , & # 34 ; cheap chinese junk & #...\n",
       "3  __label__positive__  exactly what i wanted and expected . perfect f...\n",
       "4  __label__positive__  i will look past the fact that they tricked me..."
      ]
     },
     "execution_count": 15,
     "metadata": {},
     "output_type": "execute_result"
    }
   ],
   "source": [
    "data.head()"
   ]
  },
  {
   "cell_type": "code",
   "execution_count": 16,
   "metadata": {},
   "outputs": [],
   "source": [
    "from sklearn.model_selection import train_test_split\n",
    "\n",
    "training, validation = train_test_split(data, test_size=0.05)"
   ]
  },
  {
   "cell_type": "code",
   "execution_count": 17,
   "metadata": {},
   "outputs": [
    {
     "name": "stdout",
     "output_type": "stream",
     "text": [
      "(95000, 2)\n",
      "(5000, 2)\n"
     ]
    }
   ],
   "source": [
    "print(training.shape)\n",
    "print(validation.shape)"
   ]
  },
  {
   "cell_type": "code",
   "execution_count": 18,
   "metadata": {},
   "outputs": [],
   "source": [
    "np.savetxt('/tmp/training.txt', training.values, fmt='%s')\n",
    "np.savetxt('/tmp/validation.txt', validation.values, fmt='%s')"
   ]
  },
  {
   "cell_type": "code",
   "execution_count": 19,
   "metadata": {},
   "outputs": [
    {
     "name": "stdout",
     "output_type": "stream",
     "text": [
      "__label__positive__ good\r\n",
      "__label__positive__ great product\r\n",
      "__label__positive__ these cables work perfectly , have done so for the past two years for me , and are a great value .\r\n",
      "__label__positive__ nice case . room for extra battery , card\r\n",
      "__label__negative__ not a bad little device , when it worked . this thing is really fragile . it can take no , i repeat no abuse at all . i routinely would place it on my lapel every day before going out and about , just with basic daily use the face plate fell off , i was like no problem , a bit of super glue and good as new . a month later it refused to turn on . now it 's in the garbage . if you want toss away spec ops gear , something for one special use , then this could work , but you pay the risk of it failing on duty with whatever application you may want it to . if you need a small camera for some sort of critical task , or for daily use this is a very poor choice . but hey , at this price , do n't listen to me , get it and watch it fail in less then a year . i can only see this being used for small aircraift/drones , or light aplications , this thing has a high failure rate and should not be considered for a daily use item . think what you want , i 'm simply being real here .\r\n"
     ]
    }
   ],
   "source": [
    "!head -5 /tmp/training.txt"
   ]
  },
  {
   "cell_type": "markdown",
   "metadata": {},
   "source": [
    "## Training"
   ]
  },
  {
   "cell_type": "code",
   "execution_count": 20,
   "metadata": {},
   "outputs": [
    {
     "name": "stdout",
     "output_type": "stream",
     "text": [
      "2.19.0\n"
     ]
    }
   ],
   "source": [
    "import boto3\n",
    "import sagemaker\n",
    "\n",
    "print(sagemaker.__version__)\n",
    "\n",
    "session = sagemaker.Session()\n",
    "bucket = session.default_bucket()"
   ]
  },
  {
   "cell_type": "code",
   "execution_count": 21,
   "metadata": {},
   "outputs": [
    {
     "name": "stdout",
     "output_type": "stream",
     "text": [
      "s3://sagemaker-eu-west-1-613904931467/amazon-reviews/input/train/training.txt\n",
      "s3://sagemaker-eu-west-1-613904931467/amazon-reviews/input/validation/validation.txt\n",
      "s3://sagemaker-eu-west-1-613904931467/amazon-reviews/output/\n"
     ]
    }
   ],
   "source": [
    "# Run this cell if you want to use the data you processed manually\n",
    "\n",
    "prefix = 'amazon-reviews'\n",
    "\n",
    "s3_train_path = session.upload_data(path='/tmp/training.txt', bucket=bucket, key_prefix=prefix+'/input/train')\n",
    "s3_val_path = session.upload_data(path='/tmp/validation.txt', bucket=bucket, key_prefix=prefix+'/input/validation')\n",
    "s3_output = 's3://{}/{}/output/'.format(bucket, prefix)\n",
    "\n",
    "print(s3_train_path)\n",
    "print(s3_val_path)\n",
    "print(s3_output)"
   ]
  },
  {
   "cell_type": "code",
   "execution_count": null,
   "metadata": {},
   "outputs": [],
   "source": [
    "# Run this cell if you want to use the data processed by SageMaker Processing\n",
    "\n",
    "prefix = 'amazon-reviews'\n",
    "\n",
    "s3_train_path = \n",
    "s3_val_path = \n",
    "s3_output = 's3://{}/{}/output/'.format(bucket, prefix)\n",
    "\n",
    "print(s3_train_path)\n",
    "print(s3_val_path)\n",
    "print(s3_output)"
   ]
  },
  {
   "cell_type": "code",
   "execution_count": 22,
   "metadata": {},
   "outputs": [
    {
     "name": "stdout",
     "output_type": "stream",
     "text": [
      "685385470294.dkr.ecr.eu-west-1.amazonaws.com/blazingtext:1\n"
     ]
    }
   ],
   "source": [
    "from sagemaker import image_uris\n",
    "\n",
    "region = boto3.Session().region_name    \n",
    "container = image_uris.retrieve('blazingtext', region)\n",
    "print(container)"
   ]
  },
  {
   "cell_type": "code",
   "execution_count": 23,
   "metadata": {},
   "outputs": [],
   "source": [
    "role = sagemaker.get_execution_role()\n",
    "\n",
    "bt = sagemaker.estimator.Estimator(container,\n",
    "                                   role, \n",
    "                                   instance_count=1, \n",
    "                                   instance_type='ml.c5.2xlarge',\n",
    "                                   output_path=s3_output)"
   ]
  },
  {
   "cell_type": "code",
   "execution_count": 24,
   "metadata": {},
   "outputs": [],
   "source": [
    "bt.set_hyperparameters(mode='supervised')"
   ]
  },
  {
   "cell_type": "code",
   "execution_count": 25,
   "metadata": {},
   "outputs": [],
   "source": [
    "train_data = sagemaker.TrainingInput(s3_train_path, \n",
    "                      distribution='FullyReplicated', \n",
    "                      content_type='text/plain',\n",
    "                      s3_data_type='S3Prefix')\n",
    "\n",
    "validation_data = sagemaker.TrainingInput(s3_val_path,\n",
    "                      distribution='FullyReplicated', \n",
    "                      content_type='text/plain', \n",
    "                      s3_data_type='S3Prefix')\n",
    "\n",
    "s3_channels = {'train': train_data, 'validation': validation_data}"
   ]
  },
  {
   "cell_type": "code",
   "execution_count": 26,
   "metadata": {},
   "outputs": [
    {
     "name": "stdout",
     "output_type": "stream",
     "text": [
      "2020-12-17 09:19:34 Starting - Starting the training job...\n",
      "2020-12-17 09:19:56 Starting - Launching requested ML instancesProfilerReport-1608196773: InProgress\n",
      "......\n",
      "2020-12-17 09:20:57 Starting - Preparing the instances for training...\n",
      "2020-12-17 09:21:29 Downloading - Downloading input data\n",
      "2020-12-17 09:21:29 Training - Downloading the training image..\u001b[34mArguments: train\u001b[0m\n",
      "\u001b[34m[12/17/2020 09:21:44 WARNING 140429841462912] Loggers have already been setup.\u001b[0m\n",
      "\u001b[34m[12/17/2020 09:21:44 WARNING 140429841462912] Loggers have already been setup.\u001b[0m\n",
      "\u001b[34m[12/17/2020 09:21:45 INFO 140429841462912] nvidia-smi took: 0.025170326232910156 secs to identify 0 gpus\u001b[0m\n",
      "\u001b[34m[12/17/2020 09:21:45 INFO 140429841462912] Running single machine CPU BlazingText training using supervised mode.\u001b[0m\n",
      "\u001b[34mNumber of CPU sockets found in instance is  1\u001b[0m\n",
      "\u001b[34m[12/17/2020 09:21:45 INFO 140429841462912] Processing /opt/ml/input/data/train/training.txt . File size: 25.360501289367676 MB\u001b[0m\n",
      "\u001b[34m[12/17/2020 09:21:45 INFO 140429841462912] Processing /opt/ml/input/data/validation/validation.txt . File size: 1.3297615051269531 MB\u001b[0m\n",
      "\u001b[34mRead 5M words\u001b[0m\n",
      "\u001b[34mNumber of words:  15285\u001b[0m\n",
      "\u001b[34m##### Alpha: 0.0471  Progress: 5.71%  Million Words/sec: 15.32 #####\u001b[0m\n",
      "\u001b[34m##### Alpha: 0.0442  Progress: 11.54%  Million Words/sec: 15.51 #####\u001b[0m\n",
      "\u001b[34m##### Alpha: 0.0413  Progress: 17.33%  Million Words/sec: 15.52 #####\u001b[0m\n",
      "\u001b[34m##### Alpha: 0.0384  Progress: 23.21%  Million Words/sec: 15.59 #####\u001b[0m\n",
      "\u001b[34m##### Alpha: 0.0355  Progress: 29.06%  Million Words/sec: 15.61 #####\u001b[0m\n",
      "\u001b[34m##### Alpha: 0.0326  Progress: 34.77%  Million Words/sec: 15.56 #####\u001b[0m\n",
      "\u001b[34m##### Alpha: 0.0298  Progress: 40.50%  Million Words/sec: 15.54 #####\u001b[0m\n",
      "\u001b[34m##### Alpha: 0.0268  Progress: 46.37%  Million Words/sec: 15.57 #####\u001b[0m\n",
      "\u001b[34m##### Alpha: 0.0239  Progress: 52.19%  Million Words/sec: 15.58 #####\u001b[0m\n",
      "\u001b[34m##### Alpha: 0.0210  Progress: 57.99%  Million Words/sec: 15.58 #####\u001b[0m\n",
      "\u001b[34m##### Alpha: 0.0181  Progress: 63.85%  Million Words/sec: 15.60 #####\u001b[0m\n",
      "\u001b[34m##### Alpha: 0.0152  Progress: 69.67%  Million Words/sec: 15.61 #####\u001b[0m\n",
      "\u001b[34m##### Alpha: 0.0123  Progress: 75.45%  Million Words/sec: 15.60 #####\u001b[0m\n",
      "\u001b[34m##### Alpha: 0.0093  Progress: 81.30%  Million Words/sec: 15.61 #####\u001b[0m\n",
      "\u001b[34m##### Alpha: 0.0064  Progress: 87.12%  Million Words/sec: 15.61 #####\u001b[0m\n",
      "\u001b[34m##### Alpha: 0.0036  Progress: 92.78%  Million Words/sec: 15.58 #####\u001b[0m\n",
      "\u001b[34m##### Alpha: 0.0007  Progress: 98.62%  Million Words/sec: 15.59 #####\u001b[0m\n",
      "\u001b[34m##### Alpha: 0.0000  Progress: 100.00%  Million Words/sec: 14.93 #####\u001b[0m\n",
      "\n",
      "2020-12-17 09:22:00 Uploading - Uploading generated training model\u001b[34mTraining finished.\u001b[0m\n",
      "\u001b[34mAverage throughput in Million words/sec: 14.93\u001b[0m\n",
      "\u001b[34mTotal training time in seconds: 1.80\n",
      "\u001b[0m\n",
      "\u001b[34m#train_accuracy: 0.9002\u001b[0m\n",
      "\u001b[34mNumber of train examples: 95000\n",
      "\u001b[0m\n",
      "\u001b[34m#validation_accuracy: 0.8738\u001b[0m\n",
      "\u001b[34mNumber of validation examples: 5000\u001b[0m\n",
      "\n",
      "2020-12-17 09:23:28 Completed - Training job completed\n",
      "Training seconds: 124\n",
      "Billable seconds: 124\n"
     ]
    }
   ],
   "source": [
    "bt.fit(inputs=s3_channels)"
   ]
  },
  {
   "cell_type": "code",
   "execution_count": 27,
   "metadata": {},
   "outputs": [
    {
     "name": "stdout",
     "output_type": "stream",
     "text": [
      "-----------------!"
     ]
    }
   ],
   "source": [
    "bt_predictor = bt.deploy(initial_instance_count=1, instance_type='ml.t2.medium')"
   ]
  },
  {
   "cell_type": "code",
   "execution_count": 28,
   "metadata": {},
   "outputs": [
    {
     "ename": "AttributeError",
     "evalue": "can't set attribute",
     "output_type": "error",
     "traceback": [
      "\u001b[0;31m---------------------------------------------------------------------------\u001b[0m",
      "\u001b[0;31mAttributeError\u001b[0m                            Traceback (most recent call last)",
      "\u001b[0;32m<ipython-input-28-e43679ed9fd0>\u001b[0m in \u001b[0;36m<module>\u001b[0;34m\u001b[0m\n\u001b[1;32m      8\u001b[0m \u001b[0mpayload\u001b[0m \u001b[0;34m=\u001b[0m \u001b[0;34m{\u001b[0m\u001b[0;34m\"instances\"\u001b[0m \u001b[0;34m:\u001b[0m \u001b[0msentences\u001b[0m\u001b[0;34m,\u001b[0m \u001b[0;34m\"configuration\"\u001b[0m\u001b[0;34m:\u001b[0m \u001b[0;34m{\u001b[0m\u001b[0;34m\"k\"\u001b[0m\u001b[0;34m:\u001b[0m \u001b[0;36m3\u001b[0m\u001b[0;34m}\u001b[0m\u001b[0;34m}\u001b[0m\u001b[0;34m\u001b[0m\u001b[0;34m\u001b[0m\u001b[0m\n\u001b[1;32m      9\u001b[0m \u001b[0;34m\u001b[0m\u001b[0m\n\u001b[0;32m---> 10\u001b[0;31m \u001b[0mbt_predictor\u001b[0m\u001b[0;34m.\u001b[0m\u001b[0mcontent_type\u001b[0m \u001b[0;34m=\u001b[0m \u001b[0;34m'application/json'\u001b[0m\u001b[0;34m\u001b[0m\u001b[0;34m\u001b[0m\u001b[0m\n\u001b[0m\u001b[1;32m     11\u001b[0m \u001b[0mresponse\u001b[0m \u001b[0;34m=\u001b[0m \u001b[0mbt_predictor\u001b[0m\u001b[0;34m.\u001b[0m\u001b[0mpredict\u001b[0m\u001b[0;34m(\u001b[0m\u001b[0mjson\u001b[0m\u001b[0;34m.\u001b[0m\u001b[0mdumps\u001b[0m\u001b[0;34m(\u001b[0m\u001b[0mpayload\u001b[0m\u001b[0;34m)\u001b[0m\u001b[0;34m)\u001b[0m\u001b[0;34m\u001b[0m\u001b[0;34m\u001b[0m\u001b[0m\n\u001b[1;32m     12\u001b[0m \u001b[0;34m\u001b[0m\u001b[0m\n",
      "\u001b[0;31mAttributeError\u001b[0m: can't set attribute"
     ]
    }
   ],
   "source": [
    "import json\n",
    "import pprint\n",
    "\n",
    "sentences = ['This is a bad camera it doesnt work at all , i want a refund  .', \n",
    "             'The camera works , the pictures are decent quality, nothing special to say about it .',\n",
    "             'Very happy to have bought this , exactly what I needed']\n",
    "\n",
    "payload = {\"instances\" : sentences, \"configuration\": {\"k\": 3}}\n",
    "\n",
    "bt_predictor.content_type = 'application/json'\n",
    "response = bt_predictor.predict(json.dumps(payload))\n",
    "\n",
    "print(response)"
   ]
  },
  {
   "cell_type": "code",
   "execution_count": null,
   "metadata": {},
   "outputs": [],
   "source": [
    "bt_predictor.delete_endpoint()"
   ]
  },
  {
   "cell_type": "code",
   "execution_count": null,
   "metadata": {},
   "outputs": [],
   "source": []
  }
 ],
 "metadata": {
  "kernelspec": {
   "display_name": "conda_python3",
   "language": "python",
   "name": "conda_python3"
  },
  "language_info": {
   "codemirror_mode": {
    "name": "ipython",
    "version": 3
   },
   "file_extension": ".py",
   "mimetype": "text/x-python",
   "name": "python",
   "nbconvert_exporter": "python",
   "pygments_lexer": "ipython3",
   "version": "3.6.10"
  }
 },
 "nbformat": 4,
 "nbformat_minor": 4
}

{
 "cells": [
  {
   "cell_type": "code",
   "execution_count": null,
   "metadata": {},
   "outputs": [],
   "source": [
    "%%sh\n",
    "pip -q install pip --upgrade\n",
    "pip -q install sagemaker --upgrade"
   ]
  },
  {
   "cell_type": "code",
   "execution_count": null,
   "metadata": {},
   "outputs": [],
   "source": [
    "import boto3\n",
    "import sagemaker\n",
    "\n",
    "print(sagemaker.__version__)\n",
    "\n",
    "session = sagemaker.Session()\n",
    "bucket = session.default_bucket()"
   ]
  },
  {
   "cell_type": "markdown",
   "metadata": {},
   "source": [
    "### Define channels"
   ]
  },
  {
   "cell_type": "code",
   "execution_count": null,
   "metadata": {},
   "outputs": [],
   "source": [
    "# Fully replicated, Pipe Mode\n",
    "\n",
    "prefix = 'imagenet-split'\n",
    "s3_train_path = 's3://{}/{}/input/training/'.format(bucket, prefix)\n",
    "s3_val_path   = 's3://{}/{}/input/validation/'.format(bucket, prefix)\n",
    "s3_output     = 's3://{}/{}/output/'.format(bucket, prefix)\n",
    "\n",
    "from sagemaker.inputs import ShuffleConfig\n",
    "\n",
    "train_data = sagemaker.TrainingInput(s3_train_path, \n",
    "                      distribution='FullyReplicated',\n",
    "                      shuffle_config=ShuffleConfig(59),\n",
    "                      content_type='application/x-recordio',\n",
    "                      s3_data_type='S3Prefix',\n",
    "                      input_mode='Pipe')\n",
    "\n",
    "validation_data = sagemaker.TrainingInput(s3_val_path, \n",
    "                           distribution='FullyReplicated',\n",
    "                           content_type='application/x-recordio', \n",
    "                           s3_data_type='S3Prefix',\n",
    "                           input_mode='Pipe')"
   ]
  },
  {
   "cell_type": "code",
   "execution_count": null,
   "metadata": {},
   "outputs": [],
   "source": [
    "print(s3_train_path)\n",
    "print(s3_val_path)\n",
    "print(s3_output)"
   ]
  },
  {
   "cell_type": "code",
   "execution_count": null,
   "metadata": {},
   "outputs": [],
   "source": [
    "s3_channels = {'train': train_data, 'validation': validation_data}"
   ]
  },
  {
   "cell_type": "markdown",
   "metadata": {},
   "source": [
    "### Get the name of the image classification algorithm in our region"
   ]
  },
  {
   "cell_type": "code",
   "execution_count": null,
   "metadata": {},
   "outputs": [],
   "source": [
    "from sagemaker import image_uris\n",
    "\n",
    "region = boto3.Session().region_name    \n",
    "container = image_uris.retrieve('image-classification', region)\n",
    "print(container)"
   ]
  },
  {
   "cell_type": "markdown",
   "metadata": {},
   "source": [
    "### Configure the training job"
   ]
  },
  {
   "cell_type": "code",
   "execution_count": null,
   "metadata": {},
   "outputs": [],
   "source": [
    "role = sagemaker.get_execution_role()\n",
    "\n",
    "ic = sagemaker.estimator.Estimator(container,\n",
    "                                   role, \n",
    "                                   instance_count=8, \n",
    "                                   instance_type='ml.p3dn.24xlarge', # 64 NVIDIA V100 GPUs :)\n",
    "                                   use_spot_instances=True,\n",
    "                                   max_run=28800,\n",
    "                                   max_wait=32400,\n",
    "                                   output_path=s3_output)"
   ]
  },
  {
   "cell_type": "markdown",
   "metadata": {},
   "source": [
    "### Set algorithm parameters"
   ]
  },
  {
   "cell_type": "code",
   "execution_count": null,
   "metadata": {},
   "outputs": [],
   "source": [
    "ic.set_hyperparameters(num_layers=50,                 # Train a Resnet-50 model\n",
    "                       use_pretrained_model=0,        # Train from scratch\n",
    "                       num_classes=1000,              # 1000 ImageNet classes\n",
    "                       num_training_samples=1281167,  # Number of training samples\n",
    "                       mini_batch_size=2816,          # Empiric value to fill GPU RAM\n",
    "                       learning_rate=0.4,\n",
    "                       lr_scheduler_factor=0.5,\n",
    "                       lr_scheduler_step='30,60,90,120,150,180',\n",
    "                       epochs=200,\n",
    "                       kv_store='dist_sync',\n",
    "                       augmentation_type='crop',\n",
    "                       early_stopping=True,\n",
    "                       early_stopping_patience=30,\n",
    "                       top_k=3)"
   ]
  },
  {
   "cell_type": "markdown",
   "metadata": {},
   "source": [
    "### Train the model"
   ]
  },
  {
   "cell_type": "code",
   "execution_count": null,
   "metadata": {},
   "outputs": [],
   "source": [
    "ic.fit(inputs=s3_channels)"
   ]
  },
  {
   "cell_type": "markdown",
   "metadata": {},
   "source": [
    "### Deploy the model"
   ]
  },
  {
   "cell_type": "code",
   "execution_count": null,
   "metadata": {},
   "outputs": [],
   "source": [
    "ic_predictor = ic.deploy(initial_instance_count=1,\n",
    "                         instance_type='ml.t2.medium')"
   ]
  },
  {
   "cell_type": "markdown",
   "metadata": {},
   "source": [
    "### Download a test image"
   ]
  },
  {
   "cell_type": "code",
   "execution_count": null,
   "metadata": {},
   "outputs": [],
   "source": [
    "# Dog\n",
    "!wget -O /tmp/test.jpg https://upload.wikimedia.org/wikipedia/commons/b/b7/LabradorWeaving.jpg\n",
    "file_name = '/tmp/test.jpg'\n",
    "from IPython.display import Image\n",
    "Image(file_name)"
   ]
  },
  {
   "cell_type": "markdown",
   "metadata": {},
   "source": [
    "### Predict test image"
   ]
  },
  {
   "cell_type": "code",
   "execution_count": null,
   "metadata": {},
   "outputs": [],
   "source": [
    "import boto3, json\n",
    "runtime = boto3.Session().client(service_name='runtime.sagemaker')\n",
    "\n",
    "with open(file_name, 'rb') as f:\n",
    "    payload = f.read()\n",
    "    payload = bytearray(payload)\n",
    "\n",
    "response = runtime.invoke_endpoint(EndpointName=ic_predictor.endpoint_name, \n",
    "                                   ContentType='application/x-image', \n",
    "                                   Body=payload)\n",
    "\n",
    "result = response['Body'].read()\n",
    "result = json.loads(result)\n",
    "index = np.argmax(result)\n",
    "print(result[index], index)"
   ]
  },
  {
   "cell_type": "code",
   "execution_count": null,
   "metadata": {},
   "outputs": [],
   "source": [
    "with open('classes.txt', 'r') as f:\n",
    "    labels = f.readlines()\n",
    "    \n",
    "print(labels[index])"
   ]
  },
  {
   "cell_type": "markdown",
   "metadata": {},
   "source": [
    "### Delete endpoint"
   ]
  },
  {
   "cell_type": "code",
   "execution_count": null,
   "metadata": {},
   "outputs": [],
   "source": [
    "#ic_predictor.delete_endpoint()"
   ]
  },
  {
   "cell_type": "code",
   "execution_count": null,
   "metadata": {},
   "outputs": [],
   "source": []
  }
 ],
 "metadata": {
  "kernelspec": {
   "display_name": "conda_python3",
   "language": "python",
   "name": "conda_python3"
  },
  "language_info": {
   "codemirror_mode": {
    "name": "ipython",
    "version": 3
   },
   "file_extension": ".py",
   "mimetype": "text/x-python",
   "name": "python",
   "nbconvert_exporter": "python",
   "pygments_lexer": "ipython3",
   "version": "3.6.5"
  }
 },
 "nbformat": 4,
 "nbformat_minor": 2
}
